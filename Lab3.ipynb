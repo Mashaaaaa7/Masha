{
  "cells": [
    {
      "cell_type": "markdown",
      "source": [
        "Задание 1:\n",
        "1. Загрузите датасет пассажиров титаника с помощью библиотеки pandas.\n",
        "2. Создайте массив numpy, содержащий данные о выживших пассажирах (колонка \"Survived\").\n",
        "3. Посчитайте общее количество выживших пассажиров.\n"
      ],
      "metadata": {
        "id": "77YWrPkIRLoa"
      },
      "id": "77YWrPkIRLoa"
    },
    {
      "cell_type": "code",
      "source": [
        "import pandas as pd\n",
        "import numpy as np\n",
        "df = pd.read_csv(\"train.csv\")\n",
        "survived_data = df[\"Survived\"].values\n",
        "total_survived = np.sum(survived_data)\n",
        "print(\"Общее количество выживших пассажиров:\", total_survived)"
      ],
      "metadata": {
        "colab": {
          "base_uri": "https://localhost:8080/"
        },
        "id": "v-T-r8PQQMeq",
        "outputId": "07b119d0-670e-4082-d695-da3102c538f8"
      },
      "id": "v-T-r8PQQMeq",
      "execution_count": null,
      "outputs": [
        {
          "output_type": "stream",
          "name": "stdout",
          "text": [
            "Общее количество выживших пассажиров: 342\n"
          ]
        }
      ]
    },
    {
      "cell_type": "markdown",
      "source": [
        "Задание 2:\n",
        "1. Создайте двумерный массив numpy, содержащий данные о возрасте (колонка \"Age\") и стоимости билета (колонка \"Fare\") пассажиров.\n",
        "2. Отсортируйте массив по возрасту пассажиров.\n",
        "3. Выведите информацию о самом молодом и самом старом пассажире.\n"
      ],
      "metadata": {
        "id": "cGwwni5rRIYY"
      },
      "id": "cGwwni5rRIYY"
    },
    {
      "cell_type": "code",
      "execution_count": null,
      "id": "32eb2124-91fc-4a25-b4e7-42dd86b40521",
      "metadata": {
        "tags": [],
        "id": "32eb2124-91fc-4a25-b4e7-42dd86b40521",
        "outputId": "f38e11b0-9e18-42c6-ee5f-38f722dc2674",
        "colab": {
          "base_uri": "https://localhost:8080/"
        }
      },
      "outputs": [
        {
          "output_type": "stream",
          "name": "stdout",
          "text": [
            "Самый молодой пассажир: возраст 0.42, стоимость билета 8.5167\n",
            "Самый старый пассажир: возраст 80.0, стоимость билета 30.0\n"
          ]
        }
      ],
      "source": [
        "# Создание двумерного массива\n",
        "\n",
        "medianAge = df[\"Age\"].median()\n",
        "df [\"Age\"].fillna(medianAge, inplace=True)\n",
        "data = np.array(df[['Age', 'Fare']])\n",
        "\n",
        "# Сортировка массива по возрасту пассажиров\n",
        "sorted_data = data[data[:, 0].argsort()]\n",
        "\n",
        "# Вывод информации о самом молодом и самом старом пассажире\n",
        "youngest_passenger = sorted_data[0]\n",
        "oldest_passenger = sorted_data[-1]\n",
        "\n",
        "print(\"Самый молодой пассажир: возраст {}, стоимость билета {}\".format(youngest_passenger[0], youngest_passenger[1]))\n",
        "print(\"Самый старый пассажир: возраст {}, стоимость билета {}\".format(oldest_passenger[0], oldest_passenger[1]))\n"
      ]
    },
    {
      "cell_type": "markdown",
      "source": [
        "Задание 3:\n",
        "1. Создайте массив numpy, содержащий данные о количестве родственников (колонки \"SibSp\" и \"Parch\") у пассажиров.\n",
        "2. Посчитайте общее количество родственников на борту.\n",
        "3. Определите пассажира с наибольшим количеством родственников."
      ],
      "metadata": {
        "id": "xZsb_cmtRhmu"
      },
      "id": "xZsb_cmtRhmu"
    },
    {
      "cell_type": "code",
      "source": [
        "# Создание массива numpy с данными о количестве родственников у пассажиров\n",
        "data = np.array(df[['SibSp', 'Parch']])\n",
        "\n",
        "# Подсчет общего количества родственников на борту\n",
        "total_relatives = np.sum(data)\n",
        "\n",
        "# Определение пассажира с наибольшим количеством родственников\n",
        "max_relatives_index = np.argmax(np.sum(data, axis=1))\n",
        "\n",
        "print(\"Общее количество родственников на борту:\", total_relatives)\n",
        "print(\"Пассажир с наибольшим количеством родственников:\")\n",
        "print(\"Количество родственников:\", np.sum(data[max_relatives_index]))\n",
        "print(\"Данные о родственниках (SibSp, Parch):\", data[max_relatives_index])"
      ],
      "metadata": {
        "colab": {
          "base_uri": "https://localhost:8080/"
        },
        "id": "n7TIqFASRmZQ",
        "outputId": "922463ec-e1e7-40e1-df00-f6eb6dd17ebd"
      },
      "id": "n7TIqFASRmZQ",
      "execution_count": null,
      "outputs": [
        {
          "output_type": "stream",
          "name": "stdout",
          "text": [
            "Общее количество родственников на борту: 806\n",
            "Пассажир с наибольшим количеством родственников:\n",
            "Количество родственников: 10\n",
            "Данные о родственниках (SibSp, Parch): [8 2]\n"
          ]
        }
      ]
    }
  ],
  "metadata": {
    "kernelspec": {
      "display_name": "Python 3 (ipykernel)",
      "language": "python",
      "name": "python3"
    },
    "language_info": {
      "codemirror_mode": {
        "name": "ipython",
        "version": 3
      },
      "file_extension": ".py",
      "mimetype": "text/x-python",
      "name": "python",
      "nbconvert_exporter": "python",
      "pygments_lexer": "ipython3",
      "version": "3.11.5"
    },
    "colab": {
      "provenance": []
    }
  },
  "nbformat": 4,
  "nbformat_minor": 5
}