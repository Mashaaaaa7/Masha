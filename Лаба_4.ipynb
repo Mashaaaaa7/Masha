{
  "nbformat": 4,
  "nbformat_minor": 0,
  "metadata": {
    "colab": {
      "provenance": []
    },
    "kernelspec": {
      "name": "python3",
      "display_name": "Python 3"
    },
    "language_info": {
      "name": "python"
    }
  },
  "cells": [
    {
      "cell_type": "markdown",
      "source": [
        "Лабораторная работа №4: Обучению первой модели на TensorFlow для распознавания рукописных цифр на датасете MNIST:"
      ],
      "metadata": {
        "id": "w__QVNAD7pzk"
      }
    },
    {
      "cell_type": "markdown",
      "source": [
        "Шаг 1: Загрузка и предобработка данных\n",
        "\n",
        "Импортируйте необходимые библиотеки: tensorflow и tensorflow.keras.datasets.mnist\n",
        "Загрузите датасет MNIST с помощью функции mnist.loaddata()\n",
        "Предобработайте данные: нормализуйте их, преобразуйте в нужный формат (например, масштабирование от 0 до 1)"
      ],
      "metadata": {
        "id": "AsIo5oTk7NTh"
      }
    },
    {
      "cell_type": "code",
      "source": [
        "#импорт библиотек\n",
        "import tensorflow as tf\n",
        "import numpy as np\n",
        "import ssl\n",
        "from tensorflow.keras.datasets import mnist\n",
        "\n",
        "#загрузка датасета\n",
        "# Фикс ошибки с SSL сертификатами\n",
        "ssl._create_default_https_context = ssl._create_unverified_context\n",
        "\n",
        "\n",
        "# Загрузка датасета MNIST\n",
        "(x_train, y_train), (x_test, y_test) = mnist.load_data(path='mnist.npz')\n",
        "\n",
        "# Предобработка данных\n",
        "x_train, x_test = x_train / 255.0, x_test / 255.0"
      ],
      "metadata": {
        "colab": {
          "base_uri": "https://localhost:8080/"
        },
        "id": "SjX_C7mA7Spy",
        "outputId": "ce289856-9078-4950-a211-b09f7d10531d"
      },
      "execution_count": null,
      "outputs": [
        {
          "output_type": "stream",
          "name": "stdout",
          "text": [
            "Downloading data from https://storage.googleapis.com/tensorflow/tf-keras-datasets/mnist.npz\n",
            "11490434/11490434 [==============================] - 0s 0us/step\n"
          ]
        }
      ]
    },
    {
      "cell_type": "markdown",
      "source": [],
      "metadata": {
        "id": "NKu8XRtfEhat"
      }
    },
    {
      "cell_type": "markdown",
      "source": [
        "Шаг 2: Создание нейронной сети\n",
        "- Используйте модель Sequential из библиотеки tensorflow.keras.models\n",
        "- Добавьте слои к модели: открытый слой Flatten с inputshape=(28, 28), полносвязанный слой Dense с 128 нейронами и функцией активации ReLU, полносвязанный слой Dense с 10 нейронами и функцией активации softmax"
      ],
      "metadata": {
        "id": "SI4uFNE578kH"
      }
    },
    {
      "cell_type": "code",
      "source": [
        "# Создание нейронной сети\n",
        "model = tf.keras.models.Sequential([\n",
        "    tf.keras.layers.Flatten(input_shape=(28, 28)),\n",
        "    tf.keras.layers.Dense(128, activation='relu'),\n",
        "    tf.keras.layers.Dense(10, activation='softmax')\n",
        "])"
      ],
      "metadata": {
        "id": "JVsr4JiG7YYN"
      },
      "execution_count": null,
      "outputs": []
    },
    {
      "cell_type": "markdown",
      "source": [
        "Шаг 3: Компиляция модели\n",
        "- Компилируйте модель с оптимизатором 'adam', функцией потерь 'sparsecategoricalcrossentropy' и метрикой 'accuracy'\n"
      ],
      "metadata": {
        "id": "1uSZN47P7Ynj"
      }
    },
    {
      "cell_type": "code",
      "source": [
        "# Компиляция модели\n",
        "model.compile(optimizer='adam',\n",
        "              loss='sparse_categorical_crossentropy',\n",
        "              metrics=['accuracy'])"
      ],
      "metadata": {
        "id": "-SeHF3XS7dBl"
      },
      "execution_count": null,
      "outputs": []
    },
    {
      "cell_type": "markdown",
      "source": [
        "Шаг 4: Обучение модели\n",
        "- Используйте метод fit для обучения модели на обучающем наборе данных с указанием числа эпох (например, 5 эпох)"
      ],
      "metadata": {
        "id": "343dEGAg7dNb"
      }
    },
    {
      "cell_type": "code",
      "source": [
        "# Обучение модели\n",
        "history = model.fit(x_train, y_train, epochs=5)"
      ],
      "metadata": {
        "colab": {
          "base_uri": "https://localhost:8080/"
        },
        "id": "sLcmM0bI7gKx",
        "outputId": "b244380e-e4b7-4562-84e3-527516cb8660"
      },
      "execution_count": null,
      "outputs": [
        {
          "output_type": "stream",
          "name": "stdout",
          "text": [
            "Epoch 1/5\n",
            "1875/1875 [==============================] - 18s 9ms/step - loss: 0.2544 - accuracy: 0.9270\n",
            "Epoch 2/5\n",
            "1875/1875 [==============================] - 13s 7ms/step - loss: 0.1111 - accuracy: 0.9666\n",
            "Epoch 3/5\n",
            "1875/1875 [==============================] - 6s 3ms/step - loss: 0.0767 - accuracy: 0.9768\n",
            "Epoch 4/5\n",
            "1875/1875 [==============================] - 7s 4ms/step - loss: 0.0574 - accuracy: 0.9826\n",
            "Epoch 5/5\n",
            "1875/1875 [==============================] - 5s 3ms/step - loss: 0.0445 - accuracy: 0.9864\n"
          ]
        }
      ]
    },
    {
      "cell_type": "markdown",
      "source": [
        "Шаг 5: Оценка качества модели\n",
        "- Используйте метод evaluate для оценки качества модели на тестовом наборе данных\n",
        "- Выведите точность модели на тестовом наборе данных"
      ],
      "metadata": {
        "id": "37QlQqTa7gXJ"
      }
    },
    {
      "cell_type": "code",
      "source": [
        "# Оценка качества модели\n",
        "test_loss, test_accuracy = model.evaluate(x_test, y_test)\n",
        "print(f'Точность модели на тестовом наборе данных: {test_accuracy}')\n"
      ],
      "metadata": {
        "colab": {
          "base_uri": "https://localhost:8080/"
        },
        "id": "cBtvt5g27jS1",
        "outputId": "798c03fb-9ba2-4f31-cb4e-5f98e673c801"
      },
      "execution_count": null,
      "outputs": [
        {
          "output_type": "stream",
          "name": "stdout",
          "text": [
            "313/313 [==============================] - 1s 2ms/step - loss: 0.0788 - accuracy: 0.9757\n",
            "Точность модели на тестовом наборе данных: 0.9757000207901001\n"
          ]
        }
      ]
    },
    {
      "cell_type": "markdown",
      "source": [
        "Шаг 6: Анализ результатов\n",
        "- Импортируйте библиотеку matplotlib.pyplot для построения графика\n",
        "- Постройте график кривой обучения (accuracy) с помощью данных из истории обучения"
      ],
      "metadata": {
        "id": "HSL9sHj97jfh"
      }
    },
    {
      "cell_type": "code",
      "source": [
        "# Анализ результатов\n",
        "import matplotlib.pyplot as plt\n",
        "\n",
        "plt.plot(history.history['accuracy'])\n",
        "plt.title('Model accuracy')\n",
        "plt.ylabel('Accuracy')\n",
        "plt.xlabel('Epoch')\n",
        "plt.show()"
      ],
      "metadata": {
        "colab": {
          "base_uri": "https://localhost:8080/",
          "height": 472
        },
        "id": "4Od6or6N7mA6",
        "outputId": "c5c5433e-7435-4152-80fa-4661032d20fa"
      },
      "execution_count": null,
      "outputs": [
        {
          "output_type": "display_data",
          "data": {
            "text/plain": [
              "<Figure size 640x480 with 1 Axes>"
            ],
            "image/png": "[encoded data removed]"
          },
          "metadata": {}
        }
      ]
    }
  ]
}