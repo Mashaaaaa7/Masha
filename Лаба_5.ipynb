{
  "nbformat": 4,
  "nbformat_minor": 0,
  "metadata": {
    "colab": {
      "provenance": []
    },
    "kernelspec": {
      "name": "python3",
      "display_name": "Python 3"
    },
    "language_info": {
      "name": "python"
    }
  },
  "cells": [
    {
      "cell_type": "markdown",
      "source": [
        "Напиши Сверточную нейронную сеть классификатор, на базе датасета cifar10\n"
      ],
      "metadata": {
        "id": "35VhcCZ8NwJA"
      }
    },
    {
      "cell_type": "code",
      "source": [],
      "metadata": {
        "id": "UZ6zkqEON14K"
      },
      "execution_count": null,
      "outputs": []
    }
  ]
}